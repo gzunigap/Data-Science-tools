{
 "cells": [
  {
   "cell_type": "markdown",
   "id": "b24623f8-7157-4e18-8538-5f148f43b49f",
   "metadata": {},
   "source": [
    "<h1>Data Science Tools and Ecosystem</h1>"
   ]
  },
  {
   "cell_type": "markdown",
   "id": "cf2425eb-4410-429a-8793-f0b2a247a51f",
   "metadata": {},
   "source": [
    "<p style=\"color:DodgerBlue;\">In this notebook, Data Science Tools and Ecosystem are summarized.</p>"
   ]
  },
  {
   "cell_type": "markdown",
   "id": "f2770042-015a-4b55-b8a4-21cf0e776701",
   "metadata": {
    "tags": []
   },
   "source": [
    "<strong> Objectives:</strong>  \n",
    "<ul>\n",
    "  <li>List popular languages for Data Science</li>\n",
    "    <li>List popular data science libraries</li>\n",
    "  <li>Multiply and add numbers</li>\n",
    "  <li>Create a table of Data Science tools</li>\n",
    "</ul>"
   ]
  },
  {
   "cell_type": "markdown",
   "id": "d2165d9d-8008-421f-9da7-a4cf642b24e9",
   "metadata": {},
   "source": [
    "Some of the popular languages that Data Scientists use are:  \n",
    "1. Python  \n",
    "2. R  \n",
    "3. Julia  \n",
    "4. JavaScript  \n",
    "5. Scala"
   ]
  },
  {
   "cell_type": "markdown",
   "id": "6a6c712a-3622-4537-a90a-88e5060c5e3a",
   "metadata": {},
   "source": [
    "Some of the commonly used libraries used by Data Scientists include:  \n",
    "1. Matplotlib\n",
    "2. NumPy\n",
    "3. PyTorch"
   ]
  },
  {
   "cell_type": "markdown",
   "id": "276885f3-84bb-4e9b-8a8b-23829777efff",
   "metadata": {},
   "source": [
    "<table>\n",
    "  <tr>\n",
    "    <th>Data Science Tools</th>\n",
    "      </tr>\n",
    "  <tr>\n",
    "    <td>RStudio</td>\n",
    "   </tr>\n",
    "    <tr> <td>Apache Spark</td> </tr>\n",
    "         <tr> <td>Tensor Flow</td> </tr>"
   ]
  },
  {
   "cell_type": "markdown",
   "id": "0e8fed9c-f976-48f6-8140-e3bcb3635c00",
   "metadata": {},
   "source": [
    "<h3> Below are a few examples of evaluating arithmetic expressions in Python</h3>"
   ]
  },
  {
   "cell_type": "code",
   "execution_count": 2,
   "id": "263b68b2-9d07-4e5a-bfbe-d8ad71d98886",
   "metadata": {
    "tags": []
   },
   "outputs": [
    {
     "data": {
      "text/plain": [
       "17"
      ]
     },
     "execution_count": 2,
     "metadata": {},
     "output_type": "execute_result"
    }
   ],
   "source": [
    "#This a simple arithmetic expression to mutiply then add integers\n",
    "(3*4)+5"
   ]
  },
  {
   "cell_type": "code",
   "execution_count": 9,
   "id": "4066b37d-e90f-4982-aba1-fc01c5d9217d",
   "metadata": {
    "tags": []
   },
   "outputs": [
    {
     "name": "stdout",
     "output_type": "stream",
     "text": [
      "3.3333333333333335  hours\n"
     ]
    }
   ],
   "source": [
    "#This will convert 200 minutes to hours by diving by 60\n",
    "a=200/60\n",
    "print(str(a)+\"  hours\")\n"
   ]
  },
  {
   "cell_type": "markdown",
   "id": "78e3e0fc-0178-471a-a7ac-d6740ed23338",
   "metadata": {},
   "source": [
    "<h2>Author</h2>"
   ]
  },
  {
   "cell_type": "code",
   "execution_count": null,
   "id": "a4dd892f-ae63-4102-b880-037b9c8a6501",
   "metadata": {},
   "outputs": [],
   "source": []
  }
 ],
 "metadata": {
  "kernelspec": {
   "display_name": "Python",
   "language": "python",
   "name": "conda-env-python-py"
  },
  "language_info": {
   "codemirror_mode": {
    "name": "ipython",
    "version": 3
   },
   "file_extension": ".py",
   "mimetype": "text/x-python",
   "name": "python",
   "nbconvert_exporter": "python",
   "pygments_lexer": "ipython3",
   "version": "3.7.12"
  }
 },
 "nbformat": 4,
 "nbformat_minor": 5
}
